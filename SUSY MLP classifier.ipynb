{
 "cells": [
  {
   "cell_type": "code",
   "execution_count": 13,
   "metadata": {},
   "outputs": [],
   "source": [
    "# data from http://archive.ics.uci.edu/ml/datasets/SUSY#\n",
    "\n",
    "%matplotlib inline\n",
    "import pandas as pd\n",
    "import matplotlib.pyplot as plt\n",
    "import numpy as np\n",
    "import seaborn as sns\n",
    "from sklearn import preprocessing\n",
    "from sklearn.ensemble import RandomForestClassifier\n",
    "from sklearn.neural_network import MLPClassifier\n",
    "from sklearn.model_selection import StratifiedKFold\n",
    "from sklearn.metrics import (confusion_matrix, precision_recall_curve, auc,\n",
    "                             roc_curve, recall_score, classification_report, f1_score,\n",
    "                             precision_recall_fscore_support,roc_auc_score)\n",
    "\n",
    "sns.set(style='whitegrid', palette='muted', font_scale=1.5)\n",
    "\n",
    "#rcParams['figure.figsize'] = 14, 8"
   ]
  },
  {
   "cell_type": "code",
   "execution_count": 2,
   "metadata": {},
   "outputs": [],
   "source": [
    "SUSY_data = pd.read_csv('SUSY.csv')"
   ]
  },
  {
   "cell_type": "markdown",
   "metadata": {},
   "source": [
    "The first column is the class label (1 for signal, 0 for background), followed by the 18 features (8 low-level features then 10 high-level features):: lepton 1 pT, lepton 1 eta, lepton 1 phi, lepton 2 pT, lepton 2 eta, lepton 2 phi, missing energy magnitude, missing energy phi, MET_rel, axial MET, M_R, M_TR_2, R, MT2, S_R, M_Delta_R, dPhi_r_b, cos(theta_r1). For detailed information about each feature see the original paper."
   ]
  },
  {
   "cell_type": "code",
   "execution_count": 3,
   "metadata": {},
   "outputs": [],
   "source": [
    "labels = [\"class\",\"lep1 pT\", \"lep1 eta\", \"lep1 phi\", \"lep2 pT\", \"lep2 eta\", \"lep2 phi\", \"MEmag\", \"ME phi\", \"MET_rel\", \"axial MET\", \"M_R\", \"M_TR_2\", \"R\", \"MT2\", \"S_R\", \"M_Delta_R\", \"dPhi_r_b\", \"cos(theta_r1)\"]\n",
    "SUSY_data.columns = labels"
   ]
  },
  {
   "cell_type": "code",
   "execution_count": 4,
   "metadata": {},
   "outputs": [
    {
     "data": {
      "text/html": [
       "<div>\n",
       "<style>\n",
       "    .dataframe thead tr:only-child th {\n",
       "        text-align: right;\n",
       "    }\n",
       "\n",
       "    .dataframe thead th {\n",
       "        text-align: left;\n",
       "    }\n",
       "\n",
       "    .dataframe tbody tr th {\n",
       "        vertical-align: top;\n",
       "    }\n",
       "</style>\n",
       "<table border=\"1\" class=\"dataframe\">\n",
       "  <thead>\n",
       "    <tr style=\"text-align: right;\">\n",
       "      <th></th>\n",
       "      <th>class</th>\n",
       "      <th>lep1 pT</th>\n",
       "      <th>lep1 eta</th>\n",
       "      <th>lep1 phi</th>\n",
       "      <th>lep2 pT</th>\n",
       "      <th>lep2 eta</th>\n",
       "      <th>lep2 phi</th>\n",
       "      <th>MEmag</th>\n",
       "      <th>ME phi</th>\n",
       "      <th>MET_rel</th>\n",
       "      <th>axial MET</th>\n",
       "      <th>M_R</th>\n",
       "      <th>M_TR_2</th>\n",
       "      <th>R</th>\n",
       "      <th>MT2</th>\n",
       "      <th>S_R</th>\n",
       "      <th>M_Delta_R</th>\n",
       "      <th>dPhi_r_b</th>\n",
       "      <th>cos(theta_r1)</th>\n",
       "    </tr>\n",
       "  </thead>\n",
       "  <tbody>\n",
       "    <tr>\n",
       "      <th>0</th>\n",
       "      <td>1.0</td>\n",
       "      <td>1.667973</td>\n",
       "      <td>0.064191</td>\n",
       "      <td>-1.225171</td>\n",
       "      <td>0.506102</td>\n",
       "      <td>-0.338939</td>\n",
       "      <td>1.672543</td>\n",
       "      <td>3.475464</td>\n",
       "      <td>-1.219136</td>\n",
       "      <td>0.012955</td>\n",
       "      <td>3.775174</td>\n",
       "      <td>1.045977</td>\n",
       "      <td>0.568051</td>\n",
       "      <td>0.481928</td>\n",
       "      <td>0.000000</td>\n",
       "      <td>0.448410</td>\n",
       "      <td>0.205356</td>\n",
       "      <td>1.321893</td>\n",
       "      <td>0.377584</td>\n",
       "    </tr>\n",
       "    <tr>\n",
       "      <th>1</th>\n",
       "      <td>1.0</td>\n",
       "      <td>0.444840</td>\n",
       "      <td>-0.134298</td>\n",
       "      <td>-0.709972</td>\n",
       "      <td>0.451719</td>\n",
       "      <td>-1.613871</td>\n",
       "      <td>-0.768661</td>\n",
       "      <td>1.219918</td>\n",
       "      <td>0.504026</td>\n",
       "      <td>1.831248</td>\n",
       "      <td>-0.431385</td>\n",
       "      <td>0.526283</td>\n",
       "      <td>0.941514</td>\n",
       "      <td>1.587535</td>\n",
       "      <td>2.024308</td>\n",
       "      <td>0.603498</td>\n",
       "      <td>1.562374</td>\n",
       "      <td>1.135454</td>\n",
       "      <td>0.180910</td>\n",
       "    </tr>\n",
       "    <tr>\n",
       "      <th>2</th>\n",
       "      <td>1.0</td>\n",
       "      <td>0.381256</td>\n",
       "      <td>-0.976145</td>\n",
       "      <td>0.693152</td>\n",
       "      <td>0.448959</td>\n",
       "      <td>0.891753</td>\n",
       "      <td>-0.677328</td>\n",
       "      <td>2.033060</td>\n",
       "      <td>1.533041</td>\n",
       "      <td>3.046260</td>\n",
       "      <td>-1.005285</td>\n",
       "      <td>0.569386</td>\n",
       "      <td>1.015211</td>\n",
       "      <td>1.582217</td>\n",
       "      <td>1.551914</td>\n",
       "      <td>0.761215</td>\n",
       "      <td>1.715464</td>\n",
       "      <td>1.492257</td>\n",
       "      <td>0.090719</td>\n",
       "    </tr>\n",
       "    <tr>\n",
       "      <th>3</th>\n",
       "      <td>1.0</td>\n",
       "      <td>1.309996</td>\n",
       "      <td>-0.690089</td>\n",
       "      <td>-0.676259</td>\n",
       "      <td>1.589283</td>\n",
       "      <td>-0.693326</td>\n",
       "      <td>0.622907</td>\n",
       "      <td>1.087562</td>\n",
       "      <td>-0.381742</td>\n",
       "      <td>0.589204</td>\n",
       "      <td>1.365479</td>\n",
       "      <td>1.179295</td>\n",
       "      <td>0.968218</td>\n",
       "      <td>0.728563</td>\n",
       "      <td>0.000000</td>\n",
       "      <td>1.083158</td>\n",
       "      <td>0.043429</td>\n",
       "      <td>1.154854</td>\n",
       "      <td>0.094859</td>\n",
       "    </tr>\n",
       "    <tr>\n",
       "      <th>4</th>\n",
       "      <td>0.0</td>\n",
       "      <td>0.456398</td>\n",
       "      <td>1.099371</td>\n",
       "      <td>1.512453</td>\n",
       "      <td>0.751772</td>\n",
       "      <td>0.638967</td>\n",
       "      <td>-0.742216</td>\n",
       "      <td>0.322601</td>\n",
       "      <td>1.321054</td>\n",
       "      <td>0.169502</td>\n",
       "      <td>0.359941</td>\n",
       "      <td>0.489256</td>\n",
       "      <td>0.416168</td>\n",
       "      <td>0.754829</td>\n",
       "      <td>0.303750</td>\n",
       "      <td>0.461067</td>\n",
       "      <td>0.345541</td>\n",
       "      <td>0.733242</td>\n",
       "      <td>0.186044</td>\n",
       "    </tr>\n",
       "  </tbody>\n",
       "</table>\n",
       "</div>"
      ],
      "text/plain": [
       "   class   lep1 pT  lep1 eta  lep1 phi   lep2 pT  lep2 eta  lep2 phi  \\\n",
       "0    1.0  1.667973  0.064191 -1.225171  0.506102 -0.338939  1.672543   \n",
       "1    1.0  0.444840 -0.134298 -0.709972  0.451719 -1.613871 -0.768661   \n",
       "2    1.0  0.381256 -0.976145  0.693152  0.448959  0.891753 -0.677328   \n",
       "3    1.0  1.309996 -0.690089 -0.676259  1.589283 -0.693326  0.622907   \n",
       "4    0.0  0.456398  1.099371  1.512453  0.751772  0.638967 -0.742216   \n",
       "\n",
       "      MEmag    ME phi   MET_rel  axial MET       M_R    M_TR_2         R  \\\n",
       "0  3.475464 -1.219136  0.012955   3.775174  1.045977  0.568051  0.481928   \n",
       "1  1.219918  0.504026  1.831248  -0.431385  0.526283  0.941514  1.587535   \n",
       "2  2.033060  1.533041  3.046260  -1.005285  0.569386  1.015211  1.582217   \n",
       "3  1.087562 -0.381742  0.589204   1.365479  1.179295  0.968218  0.728563   \n",
       "4  0.322601  1.321054  0.169502   0.359941  0.489256  0.416168  0.754829   \n",
       "\n",
       "        MT2       S_R  M_Delta_R  dPhi_r_b  cos(theta_r1)  \n",
       "0  0.000000  0.448410   0.205356  1.321893       0.377584  \n",
       "1  2.024308  0.603498   1.562374  1.135454       0.180910  \n",
       "2  1.551914  0.761215   1.715464  1.492257       0.090719  \n",
       "3  0.000000  1.083158   0.043429  1.154854       0.094859  \n",
       "4  0.303750  0.461067   0.345541  0.733242       0.186044  "
      ]
     },
     "execution_count": 4,
     "metadata": {},
     "output_type": "execute_result"
    }
   ],
   "source": [
    "SUSY_data.head()"
   ]
  },
  {
   "cell_type": "code",
   "execution_count": 5,
   "metadata": {},
   "outputs": [
    {
     "data": {
      "text/plain": [
       "((2287827, 19), (2712172, 19))"
      ]
     },
     "execution_count": 5,
     "metadata": {},
     "output_type": "execute_result"
    }
   ],
   "source": [
    "dfSignal = SUSY_data[SUSY_data[\"class\"] == 1]\n",
    "dfbackg = SUSY_data[SUSY_data[\"class\"] == 0]\n",
    "\n",
    "dfSignal.shape,dfbackg.shape"
   ]
  },
  {
   "cell_type": "markdown",
   "metadata": {},
   "source": [
    "# Multi-Layer Perceptron method"
   ]
  },
  {
   "cell_type": "code",
   "execution_count": 6,
   "metadata": {},
   "outputs": [],
   "source": [
    "Xclass = SUSY_data.drop('class',axis=1)\n",
    "yclass = SUSY_data['class']"
   ]
  },
  {
   "cell_type": "code",
   "execution_count": 8,
   "metadata": {},
   "outputs": [],
   "source": [
    "#Test and Training\n",
    "#nb_epoch = 10\n",
    "#batch_size = 32\n",
    "\n",
    "\n",
    "from sklearn.model_selection import train_test_split\n",
    "X_train, X_test, y_train, y_test = train_test_split(Xclass, yclass)\n",
    "\n",
    "from sklearn.preprocessing import StandardScaler\n",
    "scaler = StandardScaler()\n",
    "\n",
    "# Fit only to the training data\n",
    "scaler.fit(X_train)\n",
    "\n",
    "# Now apply the transformations to the data:\n",
    "X_train = scaler.transform(X_train)\n",
    "X_test = scaler.transform(X_test)\n",
    "\n"
   ]
  },
  {
   "cell_type": "code",
   "execution_count": 9,
   "metadata": {},
   "outputs": [],
   "source": [
    "mlp = MLPClassifier(hidden_layer_sizes=(11,11,11,11,11), learning_rate_init = 0.05)#,max_iter=500\n",
    "history = mlp.fit(X_train,y_train)"
   ]
  },
  {
   "cell_type": "code",
   "execution_count": 31,
   "metadata": {},
   "outputs": [
    {
     "data": {
      "image/png": "[encoded data removed]",
      "text/plain": [
       "<matplotlib.figure.Figure at 0x2329ab4c240>"
      ]
     },
     "metadata": {},
     "output_type": "display_data"
    }
   ],
   "source": [
    "predictions = mlp.predict(X_test)\n",
    "from sklearn.metrics import classification_report,confusion_matrix\n",
    "conf_matrix = confusion_matrix(y_test,predictions)\n",
    "\n",
    "\n",
    "plt.figure(figsize=(4, 4))\n",
    "sns.heatmap(conf_matrix,  annot=True,xticklabels=['Backgr','signal'], yticklabels=['Backgr','signal'],fmt=\"d\")\n",
    "plt.title(\"Confusion matrix\")\n",
    "plt.ylabel('True class')\n",
    "plt.xlabel('Predicted class')\n",
    "plt.show()"
   ]
  },
  {
   "cell_type": "code",
   "execution_count": 32,
   "metadata": {},
   "outputs": [
    {
     "data": {
      "image/png": "[encoded data removed]",
      "text/plain": [
       "<matplotlib.figure.Figure at 0x2329aa0edd8>"
      ]
     },
     "metadata": {},
     "output_type": "display_data"
    }
   ],
   "source": [
    "lista = y_test\n",
    "y_y =pd.DataFrame({'y':lista})\n",
    "y_test_backgr = y_y.y.value_counts()[0]\n",
    "y_test_signal = y_y.y.value_counts()[1]\n",
    "cfn_matrix = confusion_matrix(y_test,predictions)\n",
    "cfn_norm_matrix = np.array([[1.0 / y_test_backgr,1.0/y_test_backgr],[1.0/y_test_signal,1.0/y_test_signal]])\n",
    "norm_cfn_matrix = cfn_matrix * cfn_norm_matrix\n",
    "\n",
    "plt.figure(figsize=(4, 4))\n",
    "sns.heatmap(norm_cfn_matrix, annot=True,xticklabels=['Backgr','signal'], yticklabels=['Backgr','signal'])\n",
    "plt.title('Normalized Confusion Matrix')\n",
    "plt.ylabel('True Classes')\n",
    "plt.xlabel('Predicted Classes')\n",
    "plt.show()"
   ]
  },
  {
   "cell_type": "code",
   "execution_count": 14,
   "metadata": {},
   "outputs": [
    {
     "name": "stdout",
     "output_type": "stream",
     "text": [
      "             precision    recall  f1-score   support\n",
      "\n",
      "        0.0       0.78      0.87      0.83    677964\n",
      "        1.0       0.82      0.72      0.77    572036\n",
      "\n",
      "avg / total       0.80      0.80      0.80   1250000\n",
      "\n"
     ]
    }
   ],
   "source": [
    "class_report = print(classification_report(y_test,predictions))"
   ]
  },
  {
   "cell_type": "code",
   "execution_count": 15,
   "metadata": {},
   "outputs": [
    {
     "name": "stdout",
     "output_type": "stream",
     "text": [
      "[[0.89385718 0.10614282]\n",
      " [0.19589824 0.80410176]\n",
      " [0.1820914  0.8179086 ]\n",
      " ...\n",
      " [0.59954229 0.40045771]\n",
      " [0.43484207 0.56515793]\n",
      " [0.40464463 0.59535537]]\n"
     ]
    }
   ],
   "source": [
    "probabilities = mlp.predict_proba(X_test)\n",
    "print(probabilities)"
   ]
  },
  {
   "cell_type": "markdown",
   "metadata": {},
   "source": [
    "### K-fold"
   ]
  },
  {
   "cell_type": "code",
   "execution_count": 16,
   "metadata": {},
   "outputs": [
    {
     "name": "stdout",
     "output_type": "stream",
     "text": [
      "0%\n",
      "20%\n",
      "40%\n",
      "60%\n",
      "80%\n",
      "AUC: 0.73+-0.12\n"
     ]
    }
   ],
   "source": [
    "x = Xclass.loc[:]\n",
    "y = yclass.loc[:]\n",
    "\n",
    "cv = StratifiedKFold(n_splits=5,shuffle=True)\n",
    "i =0\n",
    "aucs3 = []\n",
    "for train,test in cv.split(x,y):\n",
    "    print('{}%'.format(i*20))\n",
    "    X_train = x.iloc[train]\n",
    "    X_test = x.iloc[test]\n",
    "    y_train = y.iloc[train]\n",
    "    y_test = y.iloc[test]\n",
    "    \n",
    "    X_train = preprocessing.scale(X_train)\n",
    "    X_test = preprocessing.scale(X_test)\n",
    "    \n",
    "    pred = mlp.fit(X_train,y_train).predict(X_test)\n",
    "    aucs3.append(roc_auc_score(y_test, pred))\n",
    "    i=i+1\n",
    "\n",
    "AUC = '{}+-{}'.format(round(np.average(aucs3), 2),round(np.std(aucs3),2))\n",
    "print('AUC:', AUC )"
   ]
  },
  {
   "cell_type": "code",
   "execution_count": null,
   "metadata": {},
   "outputs": [],
   "source": []
  }
 ],
 "metadata": {
  "kernelspec": {
   "display_name": "Python 3",
   "language": "python",
   "name": "python3"
  },
  "language_info": {
   "codemirror_mode": {
    "name": "ipython",
    "version": 3
   },
   "file_extension": ".py",
   "mimetype": "text/x-python",
   "name": "python",
   "nbconvert_exporter": "python",
   "pygments_lexer": "ipython3",
   "version": "3.6.1"
  }
 },
 "nbformat": 4,
 "nbformat_minor": 2
}
